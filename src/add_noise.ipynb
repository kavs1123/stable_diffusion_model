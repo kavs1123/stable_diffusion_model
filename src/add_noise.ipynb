{
 "cells": [
  {
   "cell_type": "code",
   "execution_count": 1,
   "metadata": {},
   "outputs": [
    {
     "ename": "",
     "evalue": "",
     "output_type": "error",
     "traceback": [
      "\u001b[1;31mThe Kernel crashed while executing code in the current cell or a previous cell. \n",
      "\u001b[1;31mPlease review the code in the cell(s) to identify a possible cause of the failure. \n",
      "\u001b[1;31mClick <a href='https://aka.ms/vscodeJupyterKernelCrash'>here</a> for more info. \n",
      "\u001b[1;31mView Jupyter <a href='command:jupyter.viewOutput'>log</a> for further details."
     ]
    }
   ],
   "source": [
    "from ddpm import DDPMSampler\n",
    "\n",
    "from PIL import Image\n",
    "import torch\n",
    "import numpy as np\n",
    "import math\n",
    "\n",
    "generator = torch.Generator()\n",
    "generator.manual_seed(0)\n",
    "\n",
    "ddpm_sampler = DDPMSampler(generator)\n",
    "\n",
    "noise_levels = [0, 10, 50, 75, 100, 250, 500, 750]\n",
    "\n",
    "img = Image.open(\"../images/dog.jpg\")\n",
    "img_tensor = torch.tensor(np.array(img))\n",
    "img_tensor = ((img_tensor / 255.0) * 2.0) - 1.0\n",
    "\n",
    "batch = img_tensor.repeat(len(noise_levels), 1, 1, 1)\n",
    "\n",
    "ts = torch.tensor(noise_levels, dtype=torch.int, device=batch.device)\n",
    "noise_imgs = []\n",
    "epsilons = torch.randn(batch.shape, device=batch.device)\n",
    "\n",
    "# Generate a noisifed version of the image for each noise level\n",
    "for i in range(len(ts)):\n",
    "    a_hat = ddpm_sampler.alphas_cumprod[ts[i]]\n",
    "    noise_imgs.append(\n",
    "        (math.sqrt(a_hat) * batch[i]) + (math.sqrt(1 - a_hat) * epsilons[i])\n",
    "    )\n",
    "\n",
    "\n",
    "noise_imgs = torch.stack(noise_imgs, dim=0)\n",
    "noise_imgs = (noise_imgs.clamp(-1, 1) + 1) / 2\n",
    "noise_imgs = (noise_imgs * 255).type(torch.uint8)\n",
    "\n",
    "display_img = Image.fromarray(noise_imgs[7].squeeze(0).numpy(), 'RGB')\n",
    "display_img"
   ]
  }
 ],
 "metadata": {
  "kernelspec": {
   "display_name": "stable-diffusion",
   "language": "python",
   "name": "python3"
  },
  "language_info": {
   "codemirror_mode": {
    "name": "ipython",
    "version": 3
   },
   "file_extension": ".py",
   "mimetype": "text/x-python",
   "name": "python",
   "nbconvert_exporter": "python",
   "pygments_lexer": "ipython3",
   "version": "3.11.3"
  },
  "orig_nbformat": 4
 },
 "nbformat": 4,
 "nbformat_minor": 2
}
